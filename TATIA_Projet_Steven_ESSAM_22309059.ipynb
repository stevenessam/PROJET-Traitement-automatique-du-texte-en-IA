{
 "cells": [
  {
   "cell_type": "markdown",
   "metadata": {},
   "source": [
    "# Préparation de l'environnement de travail"
   ]
  },
  {
   "cell_type": "markdown",
   "metadata": {},
   "source": [
    "### Importation des Bibliothèques "
   ]
  },
  {
   "cell_type": "code",
   "execution_count": 1,
   "metadata": {},
   "outputs": [
    {
     "name": "stdout",
     "output_type": "stream",
     "text": [
      "Defaulting to user installation because normal site-packages is not writeable\n",
      "Requirement already satisfied: nltk in /home/steven/.local/lib/python3.10/site-packages (3.8.1)\n",
      "Requirement already satisfied: pandas in /home/steven/.local/lib/python3.10/site-packages (2.1.4)\n",
      "Requirement already satisfied: scikit-learn in /home/steven/.local/lib/python3.10/site-packages (1.3.2)\n",
      "Requirement already satisfied: tqdm in /home/steven/.local/lib/python3.10/site-packages (from nltk) (4.66.1)\n",
      "Requirement already satisfied: joblib in /home/steven/.local/lib/python3.10/site-packages (from nltk) (1.3.2)\n",
      "Requirement already satisfied: regex>=2021.8.3 in /home/steven/.local/lib/python3.10/site-packages (from nltk) (2023.12.25)\n",
      "Requirement already satisfied: click in /usr/lib/python3/dist-packages (from nltk) (8.0.3)\n",
      "Requirement already satisfied: pytz>=2020.1 in /usr/lib/python3/dist-packages (from pandas) (2022.1)\n",
      "Requirement already satisfied: numpy<2,>=1.22.4 in /home/steven/.local/lib/python3.10/site-packages (from pandas) (1.26.2)\n",
      "Requirement already satisfied: python-dateutil>=2.8.2 in /home/steven/.local/lib/python3.10/site-packages (from pandas) (2.8.2)\n",
      "Requirement already satisfied: tzdata>=2022.1 in /home/steven/.local/lib/python3.10/site-packages (from pandas) (2023.3)\n",
      "Requirement already satisfied: scipy>=1.5.0 in /home/steven/.local/lib/python3.10/site-packages (from scikit-learn) (1.11.4)\n",
      "Requirement already satisfied: threadpoolctl>=2.0.0 in /home/steven/.local/lib/python3.10/site-packages (from scikit-learn) (3.2.0)\n",
      "Requirement already satisfied: six>=1.5 in /usr/lib/python3/dist-packages (from python-dateutil>=2.8.2->pandas) (1.16.0)\n"
     ]
    },
    {
     "name": "stderr",
     "output_type": "stream",
     "text": [
      "[nltk_data] Error loading stopwords: <urlopen error [Errno -3]\n",
      "[nltk_data]     Temporary failure in name resolution>\n",
      "[nltk_data] Error loading punkt: <urlopen error [Errno -3] Temporary\n",
      "[nltk_data]     failure in name resolution>\n",
      "[nltk_data] Error loading wordnet: <urlopen error [Errno -3] Temporary\n",
      "[nltk_data]     failure in name resolution>\n"
     ]
    },
    {
     "name": "stdout",
     "output_type": "stream",
     "text": [
      "Defaulting to user installation because normal site-packages is not writeable\n",
      "Requirement already satisfied: tensorflow in /home/steven/.local/lib/python3.10/site-packages (2.15.0.post1)\n",
      "Requirement already satisfied: tensorflow-estimator<2.16,>=2.15.0 in /home/steven/.local/lib/python3.10/site-packages (from tensorflow) (2.15.0)\n",
      "Requirement already satisfied: typing-extensions>=3.6.6 in /home/steven/.local/lib/python3.10/site-packages (from tensorflow) (4.9.0)\n",
      "Requirement already satisfied: astunparse>=1.6.0 in /home/steven/.local/lib/python3.10/site-packages (from tensorflow) (1.6.3)\n",
      "Requirement already satisfied: libclang>=13.0.0 in /home/steven/.local/lib/python3.10/site-packages (from tensorflow) (16.0.6)\n",
      "Requirement already satisfied: h5py>=2.9.0 in /home/steven/.local/lib/python3.10/site-packages (from tensorflow) (3.10.0)\n",
      "Requirement already satisfied: six>=1.12.0 in /usr/lib/python3/dist-packages (from tensorflow) (1.16.0)\n",
      "Requirement already satisfied: gast!=0.5.0,!=0.5.1,!=0.5.2,>=0.2.1 in /home/steven/.local/lib/python3.10/site-packages (from tensorflow) (0.5.4)\n",
      "Requirement already satisfied: numpy<2.0.0,>=1.23.5 in /home/steven/.local/lib/python3.10/site-packages (from tensorflow) (1.26.2)\n",
      "Requirement already satisfied: ml-dtypes~=0.2.0 in /home/steven/.local/lib/python3.10/site-packages (from tensorflow) (0.2.0)\n",
      "Requirement already satisfied: protobuf!=4.21.0,!=4.21.1,!=4.21.2,!=4.21.3,!=4.21.4,!=4.21.5,<5.0.0dev,>=3.20.3 in /home/steven/.local/lib/python3.10/site-packages (from tensorflow) (4.23.4)\n",
      "Requirement already satisfied: termcolor>=1.1.0 in /home/steven/.local/lib/python3.10/site-packages (from tensorflow) (2.4.0)\n",
      "Requirement already satisfied: keras<2.16,>=2.15.0 in /home/steven/.local/lib/python3.10/site-packages (from tensorflow) (2.15.0)\n",
      "Requirement already satisfied: tensorflow-io-gcs-filesystem>=0.23.1 in /home/steven/.local/lib/python3.10/site-packages (from tensorflow) (0.35.0)\n",
      "Requirement already satisfied: absl-py>=1.0.0 in /home/steven/.local/lib/python3.10/site-packages (from tensorflow) (2.0.0)\n",
      "Requirement already satisfied: grpcio<2.0,>=1.24.3 in /home/steven/.local/lib/python3.10/site-packages (from tensorflow) (1.60.0)\n",
      "Requirement already satisfied: opt-einsum>=2.3.2 in /home/steven/.local/lib/python3.10/site-packages (from tensorflow) (3.3.0)\n",
      "Requirement already satisfied: setuptools in /usr/lib/python3/dist-packages (from tensorflow) (59.6.0)\n",
      "Requirement already satisfied: flatbuffers>=23.5.26 in /home/steven/.local/lib/python3.10/site-packages (from tensorflow) (23.5.26)\n",
      "Requirement already satisfied: packaging in /home/steven/.local/lib/python3.10/site-packages (from tensorflow) (23.2)\n",
      "Requirement already satisfied: google-pasta>=0.1.1 in /home/steven/.local/lib/python3.10/site-packages (from tensorflow) (0.2.0)\n",
      "Requirement already satisfied: wrapt<1.15,>=1.11.0 in /home/steven/.local/lib/python3.10/site-packages (from tensorflow) (1.14.1)\n",
      "Requirement already satisfied: tensorboard<2.16,>=2.15 in /home/steven/.local/lib/python3.10/site-packages (from tensorflow) (2.15.1)\n",
      "Requirement already satisfied: wheel<1.0,>=0.23.0 in /usr/lib/python3/dist-packages (from astunparse>=1.6.0->tensorflow) (0.37.1)\n",
      "Requirement already satisfied: tensorboard-data-server<0.8.0,>=0.7.0 in /home/steven/.local/lib/python3.10/site-packages (from tensorboard<2.16,>=2.15->tensorflow) (0.7.2)\n",
      "Requirement already satisfied: markdown>=2.6.8 in /home/steven/.local/lib/python3.10/site-packages (from tensorboard<2.16,>=2.15->tensorflow) (3.5.1)\n",
      "Requirement already satisfied: google-auth-oauthlib<2,>=0.5 in /home/steven/.local/lib/python3.10/site-packages (from tensorboard<2.16,>=2.15->tensorflow) (1.2.0)\n",
      "Requirement already satisfied: requests<3,>=2.21.0 in /usr/lib/python3/dist-packages (from tensorboard<2.16,>=2.15->tensorflow) (2.25.1)\n",
      "Requirement already satisfied: werkzeug>=1.0.1 in /home/steven/.local/lib/python3.10/site-packages (from tensorboard<2.16,>=2.15->tensorflow) (3.0.1)\n",
      "Requirement already satisfied: google-auth<3,>=1.6.3 in /home/steven/.local/lib/python3.10/site-packages (from tensorboard<2.16,>=2.15->tensorflow) (2.25.2)\n",
      "Requirement already satisfied: cachetools<6.0,>=2.0.0 in /home/steven/.local/lib/python3.10/site-packages (from google-auth<3,>=1.6.3->tensorboard<2.16,>=2.15->tensorflow) (5.3.2)\n",
      "Requirement already satisfied: pyasn1-modules>=0.2.1 in /home/steven/.local/lib/python3.10/site-packages (from google-auth<3,>=1.6.3->tensorboard<2.16,>=2.15->tensorflow) (0.3.0)\n",
      "Requirement already satisfied: rsa<5,>=3.1.4 in /home/steven/.local/lib/python3.10/site-packages (from google-auth<3,>=1.6.3->tensorboard<2.16,>=2.15->tensorflow) (4.9)\n",
      "Requirement already satisfied: requests-oauthlib>=0.7.0 in /home/steven/.local/lib/python3.10/site-packages (from google-auth-oauthlib<2,>=0.5->tensorboard<2.16,>=2.15->tensorflow) (1.3.1)\n",
      "Requirement already satisfied: MarkupSafe>=2.1.1 in /home/steven/.local/lib/python3.10/site-packages (from werkzeug>=1.0.1->tensorboard<2.16,>=2.15->tensorflow) (2.1.3)\n",
      "Requirement already satisfied: pyasn1<0.6.0,>=0.4.6 in /home/steven/.local/lib/python3.10/site-packages (from pyasn1-modules>=0.2.1->google-auth<3,>=1.6.3->tensorboard<2.16,>=2.15->tensorflow) (0.5.1)\n",
      "Requirement already satisfied: oauthlib>=3.0.0 in /usr/lib/python3/dist-packages (from requests-oauthlib>=0.7.0->google-auth-oauthlib<2,>=0.5->tensorboard<2.16,>=2.15->tensorflow) (3.2.0)\n"
     ]
    },
    {
     "name": "stderr",
     "output_type": "stream",
     "text": [
      "2024-01-30 19:43:42.934805: E external/local_xla/xla/stream_executor/cuda/cuda_dnn.cc:9261] Unable to register cuDNN factory: Attempting to register factory for plugin cuDNN when one has already been registered\n",
      "2024-01-30 19:43:42.934863: E external/local_xla/xla/stream_executor/cuda/cuda_fft.cc:607] Unable to register cuFFT factory: Attempting to register factory for plugin cuFFT when one has already been registered\n",
      "2024-01-30 19:43:42.965412: E external/local_xla/xla/stream_executor/cuda/cuda_blas.cc:1515] Unable to register cuBLAS factory: Attempting to register factory for plugin cuBLAS when one has already been registered\n",
      "2024-01-30 19:43:43.031578: I tensorflow/core/platform/cpu_feature_guard.cc:182] This TensorFlow binary is optimized to use available CPU instructions in performance-critical operations.\n",
      "To enable the following instructions: AVX2 FMA, in other operations, rebuild TensorFlow with the appropriate compiler flags.\n",
      "2024-01-30 19:43:43.961789: W tensorflow/compiler/tf2tensorrt/utils/py_utils.cc:38] TF-TRT Warning: Could not find TensorRT\n"
     ]
    },
    {
     "name": "stdout",
     "output_type": "stream",
     "text": [
      "Defaulting to user installation because normal site-packages is not writeable\n",
      "Requirement already satisfied: tabulate in /home/steven/.local/lib/python3.10/site-packages (0.9.0)\n"
     ]
    }
   ],
   "source": [
    "!pip install nltk pandas scikit-learn\n",
    "\n",
    "import pandas as pd\n",
    "import string\n",
    "from bs4 import BeautifulSoup\n",
    "\n",
    "import nltk\n",
    "from nltk.corpus import stopwords\n",
    "from nltk.tokenize import word_tokenize\n",
    "from nltk.stem import WordNetLemmatizer\n",
    "\n",
    "nltk.download('stopwords')\n",
    "nltk.download('punkt')\n",
    "nltk.download('wordnet')\n",
    "\n",
    "from sklearn.model_selection import train_test_split\n",
    "from sklearn.feature_extraction.text import TfidfVectorizer\n",
    "from sklearn.svm import SVC\n",
    "from sklearn.ensemble import RandomForestClassifier\n",
    "from sklearn.metrics import accuracy_score, classification_report\n",
    "from sklearn.naive_bayes import MultinomialNB\n",
    "\n",
    "!pip install tensorflow\n",
    "\n",
    "from tensorflow.keras.models import Sequential\n",
    "from tensorflow.keras.layers import Embedding, GlobalAveragePooling1D, Dense\n",
    "from tensorflow.keras.preprocessing.sequence import pad_sequences\n",
    "from sklearn.preprocessing import LabelEncoder\n",
    "\n",
    "!pip install tabulate\n",
    "\n",
    "from tabulate import tabulate\n",
    "\n",
    "\n",
    "from sklearn.metrics import confusion_matrix\n",
    "import seaborn as sns\n",
    "import matplotlib.pyplot as plt\n"
   ]
  },
  {
   "cell_type": "markdown",
   "metadata": {},
   "source": [
    "# Étape 1 : Chargement du fichier CSV dans un DataFrame"
   ]
  },
  {
   "cell_type": "markdown",
   "metadata": {},
   "source": [
    "Dans cette première étape, nous avons chargé notre jeu de données à partir d'un fichier CSV en utilisant la bibliothèque pandas.\n",
    "Le fichier CSV contient des critiques de films et leur sentiment associé (positif ou négatif).\n",
    "En utilisant la fonction read_csv de pandas, nous avons créé un DataFrame nommé data qui stocke ces informations de manière tabulaire."
   ]
  },
  {
   "cell_type": "code",
   "execution_count": 2,
   "metadata": {},
   "outputs": [
    {
     "data": {
      "text/html": [
       "<div>\n",
       "<style scoped>\n",
       "    .dataframe tbody tr th:only-of-type {\n",
       "        vertical-align: middle;\n",
       "    }\n",
       "\n",
       "    .dataframe tbody tr th {\n",
       "        vertical-align: top;\n",
       "    }\n",
       "\n",
       "    .dataframe thead th {\n",
       "        text-align: right;\n",
       "    }\n",
       "</style>\n",
       "<table border=\"1\" class=\"dataframe\">\n",
       "  <thead>\n",
       "    <tr style=\"text-align: right;\">\n",
       "      <th></th>\n",
       "      <th>review</th>\n",
       "      <th>sentiment</th>\n",
       "    </tr>\n",
       "  </thead>\n",
       "  <tbody>\n",
       "    <tr>\n",
       "      <th>0</th>\n",
       "      <td>One of the other reviewers has mentioned that ...</td>\n",
       "      <td>positive</td>\n",
       "    </tr>\n",
       "    <tr>\n",
       "      <th>1</th>\n",
       "      <td>A wonderful little production. &lt;br /&gt;&lt;br /&gt;The...</td>\n",
       "      <td>positive</td>\n",
       "    </tr>\n",
       "    <tr>\n",
       "      <th>2</th>\n",
       "      <td>I thought this was a wonderful way to spend ti...</td>\n",
       "      <td>positive</td>\n",
       "    </tr>\n",
       "    <tr>\n",
       "      <th>3</th>\n",
       "      <td>Basically there's a family where a little boy ...</td>\n",
       "      <td>negative</td>\n",
       "    </tr>\n",
       "    <tr>\n",
       "      <th>4</th>\n",
       "      <td>Petter Mattei's \"Love in the Time of Money\" is...</td>\n",
       "      <td>positive</td>\n",
       "    </tr>\n",
       "  </tbody>\n",
       "</table>\n",
       "</div>"
      ],
      "text/plain": [
       "                                              review sentiment\n",
       "0  One of the other reviewers has mentioned that ...  positive\n",
       "1  A wonderful little production. <br /><br />The...  positive\n",
       "2  I thought this was a wonderful way to spend ti...  positive\n",
       "3  Basically there's a family where a little boy ...  negative\n",
       "4  Petter Mattei's \"Love in the Time of Money\" is...  positive"
      ]
     },
     "execution_count": 2,
     "metadata": {},
     "output_type": "execute_result"
    }
   ],
   "source": [
    "# Charger le fichier CSV dans un DataFrame\n",
    "data = pd.read_csv(\"IMDB_Dataset.csv\")\n",
    "\n",
    "# Afficher les premières lignes du DataFrame pour vérification\n",
    "data.head()\n"
   ]
  },
  {
   "cell_type": "markdown",
   "metadata": {},
   "source": [
    "# Étape 2 : Analyse exploratoire des données"
   ]
  },
  {
   "cell_type": "markdown",
   "metadata": {},
   "source": [
    "### 2.1 Examiner la structure des données"
   ]
  },
  {
   "cell_type": "markdown",
   "metadata": {},
   "source": [
    "Dans cette étape, nous avons effectué une exploration initiale de la structure de notre jeu de données.\n",
    "En utilisant la méthode info() du DataFrame, nous avons obtenu des informations essentielles telles que le nombre de lignes, le nombre de colonnes et les types de données de chaque colonne."
   ]
  },
  {
   "cell_type": "code",
   "execution_count": 3,
   "metadata": {},
   "outputs": [
    {
     "name": "stdout",
     "output_type": "stream",
     "text": [
      "<class 'pandas.core.frame.DataFrame'>\n",
      "RangeIndex: 50000 entries, 0 to 49999\n",
      "Data columns (total 2 columns):\n",
      " #   Column     Non-Null Count  Dtype \n",
      "---  ------     --------------  ----- \n",
      " 0   review     50000 non-null  object\n",
      " 1   sentiment  50000 non-null  object\n",
      "dtypes: object(2)\n",
      "memory usage: 781.4+ KB\n"
     ]
    }
   ],
   "source": [
    "# Afficher des informations sur le DataFrame\n",
    "data.info()\n"
   ]
  },
  {
   "cell_type": "markdown",
   "metadata": {},
   "source": [
    "### 2.2 Vérifier la distribution des classes (sentiments)"
   ]
  },
  {
   "cell_type": "markdown",
   "metadata": {},
   "source": [
    "Cette sous-étape consiste à examiner la répartition des classes dans la variable cible ('sentiment' dans notre cas).\n",
    "En utilisant la méthode value_counts(), nous avons compté le nombre d'occurrences de chaque classe (positif et négatif)."
   ]
  },
  {
   "cell_type": "code",
   "execution_count": 4,
   "metadata": {},
   "outputs": [
    {
     "data": {
      "text/plain": [
       "sentiment\n",
       "positive    25000\n",
       "negative    25000\n",
       "Name: count, dtype: int64"
      ]
     },
     "execution_count": 4,
     "metadata": {},
     "output_type": "execute_result"
    }
   ],
   "source": [
    "# Compter le nombre d'occurrences de chaque classe\n",
    "data['sentiment'].value_counts()\n"
   ]
  },
  {
   "cell_type": "markdown",
   "metadata": {},
   "source": [
    "### 2.3 Visualiser des statistiques descriptives"
   ]
  },
  {
   "cell_type": "code",
   "execution_count": 5,
   "metadata": {},
   "outputs": [
    {
     "data": {
      "text/html": [
       "<div>\n",
       "<style scoped>\n",
       "    .dataframe tbody tr th:only-of-type {\n",
       "        vertical-align: middle;\n",
       "    }\n",
       "\n",
       "    .dataframe tbody tr th {\n",
       "        vertical-align: top;\n",
       "    }\n",
       "\n",
       "    .dataframe thead th {\n",
       "        text-align: right;\n",
       "    }\n",
       "</style>\n",
       "<table border=\"1\" class=\"dataframe\">\n",
       "  <thead>\n",
       "    <tr style=\"text-align: right;\">\n",
       "      <th></th>\n",
       "      <th>review</th>\n",
       "      <th>sentiment</th>\n",
       "    </tr>\n",
       "  </thead>\n",
       "  <tbody>\n",
       "    <tr>\n",
       "      <th>count</th>\n",
       "      <td>50000</td>\n",
       "      <td>50000</td>\n",
       "    </tr>\n",
       "    <tr>\n",
       "      <th>unique</th>\n",
       "      <td>49582</td>\n",
       "      <td>2</td>\n",
       "    </tr>\n",
       "    <tr>\n",
       "      <th>top</th>\n",
       "      <td>Loved today's show!!! It was a variety and not...</td>\n",
       "      <td>positive</td>\n",
       "    </tr>\n",
       "    <tr>\n",
       "      <th>freq</th>\n",
       "      <td>5</td>\n",
       "      <td>25000</td>\n",
       "    </tr>\n",
       "  </tbody>\n",
       "</table>\n",
       "</div>"
      ],
      "text/plain": [
       "                                                   review sentiment\n",
       "count                                               50000     50000\n",
       "unique                                              49582         2\n",
       "top     Loved today's show!!! It was a variety and not...  positive\n",
       "freq                                                    5     25000"
      ]
     },
     "execution_count": 5,
     "metadata": {},
     "output_type": "execute_result"
    }
   ],
   "source": [
    "# Afficher des statistiques descriptives\n",
    "data.describe()\n"
   ]
  },
  {
   "cell_type": "markdown",
   "metadata": {},
   "source": [
    "# Étape 3 : Prétraitement des données"
   ]
  },
  {
   "cell_type": "markdown",
   "metadata": {},
   "source": [
    "### 3.1 Suppression des balises HTML du texte des critiques"
   ]
  },
  {
   "cell_type": "markdown",
   "metadata": {},
   "source": [
    "Dans cette étape, nous avons créé une fonction remove_html_tags qui utilise la bibliothèque BeautifulSoup pour supprimer les balises HTML du texte.\n",
    "Ensuite, nous avons appliqué cette fonction à la colonne 'review' du DataFrame pour éliminer tout balisage HTML dans le texte des critiques."
   ]
  },
  {
   "cell_type": "code",
   "execution_count": 6,
   "metadata": {},
   "outputs": [
    {
     "name": "stderr",
     "output_type": "stream",
     "text": [
      "/tmp/ipykernel_4380/2793885300.py:3: MarkupResemblesLocatorWarning: The input looks more like a filename than markup. You may want to open this file and pass the filehandle into Beautiful Soup.\n",
      "  soup = BeautifulSoup(text, \"html.parser\")\n"
     ]
    }
   ],
   "source": [
    "# Fonction pour supprimer les balises HTML\n",
    "def remove_html_tags(text):\n",
    "    soup = BeautifulSoup(text, \"html.parser\")\n",
    "    return soup.get_text()\n",
    "\n",
    "# Appliquer la fonction sur la colonne 'review'\n",
    "data['review'] = data['review'].apply(remove_html_tags)\n"
   ]
  },
  {
   "cell_type": "markdown",
   "metadata": {},
   "source": [
    "### 3.2 Conversion du texte en minuscules"
   ]
  },
  {
   "cell_type": "markdown",
   "metadata": {},
   "source": [
    "Dans cette sous-étape, nous avons converti l'ensemble du texte des critiques en minuscules.\n",
    "Ceci est réalisé en utilisant la méthode str.lower() sur la colonne 'review', assurant ainsi une uniformité dans la casse du texte."
   ]
  },
  {
   "cell_type": "code",
   "execution_count": 7,
   "metadata": {},
   "outputs": [],
   "source": [
    "# Convertir le texte en minuscules\n",
    "data['review'] = data['review'].str.lower()\n"
   ]
  },
  {
   "cell_type": "markdown",
   "metadata": {},
   "source": [
    "### 3.3 Suppression de la ponctuation"
   ]
  },
  {
   "cell_type": "markdown",
   "metadata": {},
   "source": [
    "Nous avons créé une fonction remove_punctuation qui utilise la méthode translate pour supprimer la ponctuation du texte.\n",
    "Ensuite, nous avons appliqué cette fonction à la colonne 'review' du DataFrame pour éliminer tous les signes de ponctuation."
   ]
  },
  {
   "cell_type": "code",
   "execution_count": 8,
   "metadata": {},
   "outputs": [],
   "source": [
    "# Fonction pour supprimer la ponctuation\n",
    "def remove_punctuation(text):\n",
    "    return text.translate(str.maketrans(\"\", \"\", string.punctuation))\n",
    "\n",
    "# Appliquer la fonction sur la colonne 'review'\n",
    "data['review'] = data['review'].apply(remove_punctuation)\n"
   ]
  },
  {
   "cell_type": "markdown",
   "metadata": {},
   "source": [
    "### 3.4 Suppression des stop words"
   ]
  },
  {
   "cell_type": "markdown",
   "metadata": {},
   "source": [
    "Dans cette sous-étape, nous avons créé une fonction remove_stopwords qui utilise la liste des stop words de la langue anglaise provenant de la bibliothèque NLTK.\n",
    "La fonction supprime les stop words du texte en divisant le texte en mots, filtrant les mots qui ne sont pas des stop words, puis recombinant les mots."
   ]
  },
  {
   "cell_type": "code",
   "execution_count": 9,
   "metadata": {},
   "outputs": [],
   "source": [
    "# Fonction pour supprimer les stop words\n",
    "def remove_stopwords(text):\n",
    "    stop_words = set(stopwords.words('english'))\n",
    "    words = [word for word in text.split() if word.lower() not in stop_words]\n",
    "    return ' '.join(words)\n",
    "\n",
    "# Appliquer la fonction sur la colonne 'review'\n",
    "data['review'] = data['review'].apply(remove_stopwords)\n"
   ]
  },
  {
   "cell_type": "markdown",
   "metadata": {},
   "source": [
    "### 3.5 Tokenisation"
   ]
  },
  {
   "cell_type": "markdown",
   "metadata": {},
   "source": [
    "Nous avons créé une fonction tokenize_text qui utilise la méthode word_tokenize de la bibliothèque NLTK pour diviser le texte en mots (tokens).\n",
    "La fonction a été appliquée à la colonne 'review' du DataFrame pour créer une liste de mots pour chaque critique."
   ]
  },
  {
   "cell_type": "code",
   "execution_count": 10,
   "metadata": {},
   "outputs": [],
   "source": [
    "# Fonction de tokenisation\n",
    "def tokenize_text(text):\n",
    "    return word_tokenize(text)\n",
    "\n",
    "# Appliquer la fonction sur la colonne 'review'\n",
    "data['review'] = data['review'].apply(tokenize_text)\n"
   ]
  },
  {
   "cell_type": "markdown",
   "metadata": {},
   "source": [
    "### 3.6 Lemmatisation ou racinisation des mots"
   ]
  },
  {
   "cell_type": "markdown",
   "metadata": {},
   "source": [
    "Dans cette sous-étape, nous avons créé une fonction lemmatize_text qui utilise le lemmatiseur de la bibliothèque NLTK pour ramener les mots à leur forme de base (lemme).\n",
    "La fonction a été appliquée à la colonne 'review' du DataFrame pour lemmatiser chaque mot dans chaque critique."
   ]
  },
  {
   "cell_type": "code",
   "execution_count": 11,
   "metadata": {},
   "outputs": [],
   "source": [
    "# Fonction de lemmatisation\n",
    "def lemmatize_text(tokens):\n",
    "    lemmatizer = WordNetLemmatizer()\n",
    "    return [lemmatizer.lemmatize(word) for word in tokens]\n",
    "\n",
    "# Appliquer la fonction sur la colonne 'review'\n",
    "data['review'] = data['review'].apply(lemmatize_text)\n"
   ]
  },
  {
   "cell_type": "markdown",
   "metadata": {},
   "source": [
    "# Étape 4 : Division des données"
   ]
  },
  {
   "cell_type": "markdown",
   "metadata": {},
   "source": [
    "Cette étape a pour objectif de diviser nos données en ensembles d'entraînement et de test.\n",
    "Nous avons utilisé la fonction train_test_split de scikit-learn pour accomplir cela, en spécifiant un ratio de 80% pour l'ensemble d'entraînement et 20% pour l'ensemble de test."
   ]
  },
  {
   "cell_type": "code",
   "execution_count": 12,
   "metadata": {},
   "outputs": [],
   "source": [
    "# Diviser les données en ensembles d'entraînement et de test (80% - 20%)\n",
    "train_data, test_data, train_labels, test_labels = train_test_split(\n",
    "    data['review'], data['sentiment'], test_size=0.2, random_state=42\n",
    ")\n"
   ]
  },
  {
   "cell_type": "markdown",
   "metadata": {},
   "source": [
    "# Étape 5 : Vectorisation du texte"
   ]
  },
  {
   "cell_type": "markdown",
   "metadata": {},
   "source": [
    "Dans cette étape, nous avons utilisé la bibliothèque scikit-learn pour effectuer la vectorisation du texte en utilisant la méthode TF-IDF (Term Frequency-Inverse Document Frequency).\n",
    "Le vectoriseur TF-IDF attribue des poids aux mots en fonction de leur fréquence dans le texte et de leur importance dans l'ensemble du corpus."
   ]
  },
  {
   "cell_type": "code",
   "execution_count": 13,
   "metadata": {},
   "outputs": [],
   "source": [
    "# Initialiser le vectoriseur TF-IDF\n",
    "tfidf_vectorizer = TfidfVectorizer(max_features=5000)\n",
    "\n",
    "# Appliquer le vectoriseur sur les données d'entraînement et de test\n",
    "X_train_tfidf = tfidf_vectorizer.fit_transform(train_data.astype('str'))\n",
    "X_test_tfidf = tfidf_vectorizer.transform(test_data.astype('str'))\n"
   ]
  },
  {
   "cell_type": "markdown",
   "metadata": {},
   "source": [
    "# Étape 6 : Construction du modèle SVM"
   ]
  },
  {
   "cell_type": "markdown",
   "metadata": {},
   "source": [
    "Dans cette étape, nous avons construit notre modèle d'analyse de sentiment en utilisant une machine à vecteurs de support (SVM) avec un noyau linéaire.\n",
    "La bibliothèque scikit-learn a été utilisée, et le modèle a été initialisé avec la classe SVC (Support Vector Classification)."
   ]
  },
  {
   "cell_type": "code",
   "execution_count": 14,
   "metadata": {},
   "outputs": [
    {
     "data": {
      "text/html": [
       "<style>#sk-container-id-1 {color: black;}#sk-container-id-1 pre{padding: 0;}#sk-container-id-1 div.sk-toggleable {background-color: white;}#sk-container-id-1 label.sk-toggleable__label {cursor: pointer;display: block;width: 100%;margin-bottom: 0;padding: 0.3em;box-sizing: border-box;text-align: center;}#sk-container-id-1 label.sk-toggleable__label-arrow:before {content: \"▸\";float: left;margin-right: 0.25em;color: #696969;}#sk-container-id-1 label.sk-toggleable__label-arrow:hover:before {color: black;}#sk-container-id-1 div.sk-estimator:hover label.sk-toggleable__label-arrow:before {color: black;}#sk-container-id-1 div.sk-toggleable__content {max-height: 0;max-width: 0;overflow: hidden;text-align: left;background-color: #f0f8ff;}#sk-container-id-1 div.sk-toggleable__content pre {margin: 0.2em;color: black;border-radius: 0.25em;background-color: #f0f8ff;}#sk-container-id-1 input.sk-toggleable__control:checked~div.sk-toggleable__content {max-height: 200px;max-width: 100%;overflow: auto;}#sk-container-id-1 input.sk-toggleable__control:checked~label.sk-toggleable__label-arrow:before {content: \"▾\";}#sk-container-id-1 div.sk-estimator input.sk-toggleable__control:checked~label.sk-toggleable__label {background-color: #d4ebff;}#sk-container-id-1 div.sk-label input.sk-toggleable__control:checked~label.sk-toggleable__label {background-color: #d4ebff;}#sk-container-id-1 input.sk-hidden--visually {border: 0;clip: rect(1px 1px 1px 1px);clip: rect(1px, 1px, 1px, 1px);height: 1px;margin: -1px;overflow: hidden;padding: 0;position: absolute;width: 1px;}#sk-container-id-1 div.sk-estimator {font-family: monospace;background-color: #f0f8ff;border: 1px dotted black;border-radius: 0.25em;box-sizing: border-box;margin-bottom: 0.5em;}#sk-container-id-1 div.sk-estimator:hover {background-color: #d4ebff;}#sk-container-id-1 div.sk-parallel-item::after {content: \"\";width: 100%;border-bottom: 1px solid gray;flex-grow: 1;}#sk-container-id-1 div.sk-label:hover label.sk-toggleable__label {background-color: #d4ebff;}#sk-container-id-1 div.sk-serial::before {content: \"\";position: absolute;border-left: 1px solid gray;box-sizing: border-box;top: 0;bottom: 0;left: 50%;z-index: 0;}#sk-container-id-1 div.sk-serial {display: flex;flex-direction: column;align-items: center;background-color: white;padding-right: 0.2em;padding-left: 0.2em;position: relative;}#sk-container-id-1 div.sk-item {position: relative;z-index: 1;}#sk-container-id-1 div.sk-parallel {display: flex;align-items: stretch;justify-content: center;background-color: white;position: relative;}#sk-container-id-1 div.sk-item::before, #sk-container-id-1 div.sk-parallel-item::before {content: \"\";position: absolute;border-left: 1px solid gray;box-sizing: border-box;top: 0;bottom: 0;left: 50%;z-index: -1;}#sk-container-id-1 div.sk-parallel-item {display: flex;flex-direction: column;z-index: 1;position: relative;background-color: white;}#sk-container-id-1 div.sk-parallel-item:first-child::after {align-self: flex-end;width: 50%;}#sk-container-id-1 div.sk-parallel-item:last-child::after {align-self: flex-start;width: 50%;}#sk-container-id-1 div.sk-parallel-item:only-child::after {width: 0;}#sk-container-id-1 div.sk-dashed-wrapped {border: 1px dashed gray;margin: 0 0.4em 0.5em 0.4em;box-sizing: border-box;padding-bottom: 0.4em;background-color: white;}#sk-container-id-1 div.sk-label label {font-family: monospace;font-weight: bold;display: inline-block;line-height: 1.2em;}#sk-container-id-1 div.sk-label-container {text-align: center;}#sk-container-id-1 div.sk-container {/* jupyter's `normalize.less` sets `[hidden] { display: none; }` but bootstrap.min.css set `[hidden] { display: none !important; }` so we also need the `!important` here to be able to override the default hidden behavior on the sphinx rendered scikit-learn.org. See: https://github.com/scikit-learn/scikit-learn/issues/21755 */display: inline-block !important;position: relative;}#sk-container-id-1 div.sk-text-repr-fallback {display: none;}</style><div id=\"sk-container-id-1\" class=\"sk-top-container\"><div class=\"sk-text-repr-fallback\"><pre>SVC(kernel=&#x27;linear&#x27;, random_state=42)</pre><b>In a Jupyter environment, please rerun this cell to show the HTML representation or trust the notebook. <br />On GitHub, the HTML representation is unable to render, please try loading this page with nbviewer.org.</b></div><div class=\"sk-container\" hidden><div class=\"sk-item\"><div class=\"sk-estimator sk-toggleable\"><input class=\"sk-toggleable__control sk-hidden--visually\" id=\"sk-estimator-id-1\" type=\"checkbox\" checked><label for=\"sk-estimator-id-1\" class=\"sk-toggleable__label sk-toggleable__label-arrow\">SVC</label><div class=\"sk-toggleable__content\"><pre>SVC(kernel=&#x27;linear&#x27;, random_state=42)</pre></div></div></div></div></div>"
      ],
      "text/plain": [
       "SVC(kernel='linear', random_state=42)"
      ]
     },
     "execution_count": 14,
     "metadata": {},
     "output_type": "execute_result"
    }
   ],
   "source": [
    "# Initialiser le modèle SVM\n",
    "svm_model = SVC(kernel='linear', random_state=42)\n",
    "\n",
    "# Entraîner le modèle sur les données d'entraînement\n",
    "svm_model.fit(X_train_tfidf, train_labels)\n"
   ]
  },
  {
   "cell_type": "markdown",
   "metadata": {},
   "source": [
    "# Étape 7 : Évaluation du modèle"
   ]
  },
  {
   "cell_type": "markdown",
   "metadata": {},
   "source": [
    "Dans cette étape, nous avons évalué la performance de notre modèle SVM sur l'ensemble de test.\n",
    "Nous avons utilisé les données de test vectorisées (X_test_tfidf) pour prédire les labels de sentiment.\n",
    "La précision du modèle a été calculée en comparant les prédictions avec les vraies étiquettes (test_labels).\n",
    "\n",
    "---\n",
    "\n",
    "Résultat :\n",
    "\n",
    "La précision globale du modèle SVM est de 88.62%."
   ]
  },
  {
   "cell_type": "code",
   "execution_count": 15,
   "metadata": {},
   "outputs": [
    {
     "name": "stdout",
     "output_type": "stream",
     "text": [
      "Précision du modèle : 88.62%\n",
      "\n",
      "Rapport de classification :\n",
      "               precision    recall  f1-score   support\n",
      "\n",
      "    negative       0.89      0.87      0.88      4961\n",
      "    positive       0.88      0.90      0.89      5039\n",
      "\n",
      "    accuracy                           0.89     10000\n",
      "   macro avg       0.89      0.89      0.89     10000\n",
      "weighted avg       0.89      0.89      0.89     10000\n",
      "\n"
     ]
    }
   ],
   "source": [
    "# Prédire les labels pour l'ensemble de test\n",
    "predictions = svm_model.predict(X_test_tfidf)\n",
    "\n",
    "# Calculer la précision du modèle\n",
    "accuracy = accuracy_score(test_labels, predictions)\n",
    "print(f\"Précision du modèle : {accuracy:.2%}\")\n",
    "\n",
    "# Afficher le rapport de classification\n",
    "print(\"\\nRapport de classification :\\n\", classification_report(test_labels, predictions))\n"
   ]
  },
  {
   "cell_type": "markdown",
   "metadata": {},
   "source": [
    "# Étape 8 : Interprétation des résultats"
   ]
  },
  {
   "cell_type": "markdown",
   "metadata": {},
   "source": [
    "Cette étape consiste à interpréter les résultats du modèle en examinant les exemples où il a fait des prédictions incorrectes.\n",
    "Nous avons identifié les critiques mal classées en comparant les vraies étiquettes (True Label) avec les prédictions du modèle (Predicted Label)."
   ]
  },
  {
   "cell_type": "code",
   "execution_count": 16,
   "metadata": {},
   "outputs": [
    {
     "name": "stdout",
     "output_type": "stream",
     "text": [
      "Exemples de prédictions incorrectes :\n",
      "                                                   Review True Label  \\\n",
      "33553  [really, liked, summerslam, due, look, arena, ...   positive   \n",
      "49498  [okay, didnt, get, purgatory, thing, first, ti...   positive   \n",
      "6113   [production, quality, cast, premise, authentic...   positive   \n",
      "15118  [movie, released, originally, soft, x, apparen...   positive   \n",
      "33109  [three, kid, born, solar, eclipse, turn, vile,...   positive   \n",
      "\n",
      "      Predicted Label  \n",
      "33553        negative  \n",
      "49498        negative  \n",
      "6113         negative  \n",
      "15118        negative  \n",
      "33109        negative  \n"
     ]
    }
   ],
   "source": [
    "# Afficher les exemples où le modèle a fait des prédictions incorrectes\n",
    "misclassified = test_data[test_labels != predictions]\n",
    "misclassified_labels = test_labels[test_labels != predictions]\n",
    "misclassified_predictions = predictions[test_labels != predictions]\n",
    "\n",
    "misclassified_df = pd.DataFrame({'Review': misclassified, 'True Label': misclassified_labels, 'Predicted Label': misclassified_predictions})\n",
    "print(\"Exemples de prédictions incorrectes :\\n\", misclassified_df.head())\n"
   ]
  },
  {
   "cell_type": "markdown",
   "metadata": {},
   "source": [
    "Dans l'exemple 1, le modèle a mal classé une critique positive comme négative, peut-être en raison d'interprétations négatives de certains mots ou phrases. Le même schéma se répète dans les exemples suivants (2 à 5), où des critiques positives ont été incorrectement prédites comme négatives. Le modèle semble avoir du mal avec des nuances subtiles du langage, et des expressions ambigües peuvent induire en erreur. Par exemple, la phrase \"didn't get purgatory thing first ti...\" peut être interprétée de manière ambiguë. En résumé, les erreurs semblent découler de la complexité du langage et des subtilités dans l'analyse de sentiments."
   ]
  },
  {
   "cell_type": "markdown",
   "metadata": {},
   "source": [
    "Étape 9 : TEST - Application du modèle SVM sur de nouvelles données"
   ]
  },
  {
   "cell_type": "markdown",
   "metadata": {},
   "source": [
    "Dans cette étape, nous avons testé le modèle SVM sur de nouvelles critiques qui n'ont pas été utilisées pendant l'entraînement.\n",
    "Les nouvelles critiques ont été prétraitées de la même manière que les données d'entraînement, en supprimant les balises HTML, convertissant en minuscules, supprimant la ponctuation, enlevant les stop words, et lemmatisant les mots.\n",
    "Ensuite, les critiques ont été vectorisées en utilisant le même vectoriseur TF-IDF que celui utilisé lors de l'entraînement.\n",
    "Enfin, le modèle a prédit le sentiment de chaque nouvelle critique.\n",
    "\n",
    "--\n",
    "\n",
    "Les prédictions de sentiment pour chaque nouvelle critique sont présentées. Le modèle a réussi à identifier le sentiment négatif dans les trois premières critiques et le sentiment positif dans les trois dernières critiques, montrant ainsi sa capacité à s'adapter à de nouvelles données.\n"
   ]
  },
  {
   "cell_type": "code",
   "execution_count": 17,
   "metadata": {},
   "outputs": [
    {
     "name": "stdout",
     "output_type": "stream",
     "text": [
      "Review: film suffers predictable unoriginal storyline leaving audience disappointing sense déjà vu\n",
      "Predicted Sentiment: negative\n",
      "\n",
      "Review: actor performance leave much desired lacking emotional depth credibility undermining immersion narrative\n",
      "Predicted Sentiment: negative\n",
      "\n",
      "Review: despite polished special effect direction suffers lack artistic cohesion giving impression visual element added disjointedly\n",
      "Predicted Sentiment: negative\n",
      "\n",
      "Review: film artistic direction visually striking featuring stunning set design capture viewer attention\n",
      "Predicted Sentiment: positive\n",
      "\n",
      "Review: scene elevated outstanding actor performance delivering poignant memorable moment despite shortcoming storyline\n",
      "Predicted Sentiment: positive\n",
      "\n",
      "Review: technical prowess special effect contributes making certain sequence visually breathtaking offering moment grand spectacle despite narrative issue\n",
      "Predicted Sentiment: positive\n",
      "\n"
     ]
    }
   ],
   "source": [
    "# Nouvelles critiques\n",
    "new_reviews = [\"The film suffers from a predictable and unoriginal storyline, leaving audiences with a disappointing sense of déjà vu.\",\n",
    "               \"The actors performances leave much to be desired, lacking emotional depth and credibility, undermining immersion in the narrative.\",\n",
    "               \"Despite polished special effects, the direction suffers from a lack of artistic cohesion, giving the impression that each visual element is added disjointedly.\",\n",
    "               \"The film's artistic direction is visually striking, featuring stunning set designs that capture the viewer's attention.\",\n",
    "               \"Some scenes are elevated by outstanding actor performances, delivering poignant and memorable moments despite the shortcomings of the storyline.\",\n",
    "               \"The technical prowess of the special effects contributes to making certain sequences visually breathtaking, offering moments of grand spectacle despite narrative issues.\"]\n",
    "\n",
    "# Prétraitement des nouvelles critiques\n",
    "new_reviews = [remove_html_tags(review) for review in new_reviews]\n",
    "new_reviews = [review.lower() for review in new_reviews]\n",
    "new_reviews = [remove_punctuation(review) for review in new_reviews]\n",
    "new_reviews = [remove_stopwords(review) for review in new_reviews]\n",
    "new_reviews = [tokenize_text(review) for review in new_reviews]\n",
    "new_reviews = [lemmatize_text(tokens) for tokens in new_reviews]\n",
    "\n",
    "# Vectorisation des nouvelles critiques\n",
    "new_reviews_tfidf = tfidf_vectorizer.transform([\" \".join(tokens) for tokens in new_reviews])\n",
    "\n",
    "# Prédiction du sentiment des nouvelles critiques\n",
    "new_predictions = svm_model.predict(new_reviews_tfidf)\n",
    "\n",
    "# Afficher les prédictions\n",
    "for review, prediction in zip(new_reviews, new_predictions):\n",
    "    print(f\"Review: {' '.join(review)}\\nPredicted Sentiment: {prediction}\\n\")\n"
   ]
  },
  {
   "cell_type": "markdown",
   "metadata": {},
   "source": [
    "=================FIN================="
   ]
  },
  {
   "cell_type": "markdown",
   "metadata": {},
   "source": [
    "# Étape 10 : Comparaison avec d'autres algorithmes"
   ]
  },
  {
   "cell_type": "markdown",
   "metadata": {},
   "source": [
    "### 10.1 - Implémentation du modèle Random Forest"
   ]
  },
  {
   "cell_type": "markdown",
   "metadata": {},
   "source": [
    "Dans cette étape, nous avons introduit un autre algorithme, le modèle Random Forest, pour comparer ses performances avec le modèle SVM déjà implémenté.\n",
    "Nous avons utilisé la classe RandomForestClassifier de la bibliothèque scikit-learn pour initialiser et entraîner le modèle Random Forest."
   ]
  },
  {
   "cell_type": "code",
   "execution_count": 18,
   "metadata": {},
   "outputs": [
    {
     "data": {
      "text/html": [
       "<style>#sk-container-id-2 {color: black;}#sk-container-id-2 pre{padding: 0;}#sk-container-id-2 div.sk-toggleable {background-color: white;}#sk-container-id-2 label.sk-toggleable__label {cursor: pointer;display: block;width: 100%;margin-bottom: 0;padding: 0.3em;box-sizing: border-box;text-align: center;}#sk-container-id-2 label.sk-toggleable__label-arrow:before {content: \"▸\";float: left;margin-right: 0.25em;color: #696969;}#sk-container-id-2 label.sk-toggleable__label-arrow:hover:before {color: black;}#sk-container-id-2 div.sk-estimator:hover label.sk-toggleable__label-arrow:before {color: black;}#sk-container-id-2 div.sk-toggleable__content {max-height: 0;max-width: 0;overflow: hidden;text-align: left;background-color: #f0f8ff;}#sk-container-id-2 div.sk-toggleable__content pre {margin: 0.2em;color: black;border-radius: 0.25em;background-color: #f0f8ff;}#sk-container-id-2 input.sk-toggleable__control:checked~div.sk-toggleable__content {max-height: 200px;max-width: 100%;overflow: auto;}#sk-container-id-2 input.sk-toggleable__control:checked~label.sk-toggleable__label-arrow:before {content: \"▾\";}#sk-container-id-2 div.sk-estimator input.sk-toggleable__control:checked~label.sk-toggleable__label {background-color: #d4ebff;}#sk-container-id-2 div.sk-label input.sk-toggleable__control:checked~label.sk-toggleable__label {background-color: #d4ebff;}#sk-container-id-2 input.sk-hidden--visually {border: 0;clip: rect(1px 1px 1px 1px);clip: rect(1px, 1px, 1px, 1px);height: 1px;margin: -1px;overflow: hidden;padding: 0;position: absolute;width: 1px;}#sk-container-id-2 div.sk-estimator {font-family: monospace;background-color: #f0f8ff;border: 1px dotted black;border-radius: 0.25em;box-sizing: border-box;margin-bottom: 0.5em;}#sk-container-id-2 div.sk-estimator:hover {background-color: #d4ebff;}#sk-container-id-2 div.sk-parallel-item::after {content: \"\";width: 100%;border-bottom: 1px solid gray;flex-grow: 1;}#sk-container-id-2 div.sk-label:hover label.sk-toggleable__label {background-color: #d4ebff;}#sk-container-id-2 div.sk-serial::before {content: \"\";position: absolute;border-left: 1px solid gray;box-sizing: border-box;top: 0;bottom: 0;left: 50%;z-index: 0;}#sk-container-id-2 div.sk-serial {display: flex;flex-direction: column;align-items: center;background-color: white;padding-right: 0.2em;padding-left: 0.2em;position: relative;}#sk-container-id-2 div.sk-item {position: relative;z-index: 1;}#sk-container-id-2 div.sk-parallel {display: flex;align-items: stretch;justify-content: center;background-color: white;position: relative;}#sk-container-id-2 div.sk-item::before, #sk-container-id-2 div.sk-parallel-item::before {content: \"\";position: absolute;border-left: 1px solid gray;box-sizing: border-box;top: 0;bottom: 0;left: 50%;z-index: -1;}#sk-container-id-2 div.sk-parallel-item {display: flex;flex-direction: column;z-index: 1;position: relative;background-color: white;}#sk-container-id-2 div.sk-parallel-item:first-child::after {align-self: flex-end;width: 50%;}#sk-container-id-2 div.sk-parallel-item:last-child::after {align-self: flex-start;width: 50%;}#sk-container-id-2 div.sk-parallel-item:only-child::after {width: 0;}#sk-container-id-2 div.sk-dashed-wrapped {border: 1px dashed gray;margin: 0 0.4em 0.5em 0.4em;box-sizing: border-box;padding-bottom: 0.4em;background-color: white;}#sk-container-id-2 div.sk-label label {font-family: monospace;font-weight: bold;display: inline-block;line-height: 1.2em;}#sk-container-id-2 div.sk-label-container {text-align: center;}#sk-container-id-2 div.sk-container {/* jupyter's `normalize.less` sets `[hidden] { display: none; }` but bootstrap.min.css set `[hidden] { display: none !important; }` so we also need the `!important` here to be able to override the default hidden behavior on the sphinx rendered scikit-learn.org. See: https://github.com/scikit-learn/scikit-learn/issues/21755 */display: inline-block !important;position: relative;}#sk-container-id-2 div.sk-text-repr-fallback {display: none;}</style><div id=\"sk-container-id-2\" class=\"sk-top-container\"><div class=\"sk-text-repr-fallback\"><pre>RandomForestClassifier(random_state=42)</pre><b>In a Jupyter environment, please rerun this cell to show the HTML representation or trust the notebook. <br />On GitHub, the HTML representation is unable to render, please try loading this page with nbviewer.org.</b></div><div class=\"sk-container\" hidden><div class=\"sk-item\"><div class=\"sk-estimator sk-toggleable\"><input class=\"sk-toggleable__control sk-hidden--visually\" id=\"sk-estimator-id-2\" type=\"checkbox\" checked><label for=\"sk-estimator-id-2\" class=\"sk-toggleable__label sk-toggleable__label-arrow\">RandomForestClassifier</label><div class=\"sk-toggleable__content\"><pre>RandomForestClassifier(random_state=42)</pre></div></div></div></div></div>"
      ],
      "text/plain": [
       "RandomForestClassifier(random_state=42)"
      ]
     },
     "execution_count": 18,
     "metadata": {},
     "output_type": "execute_result"
    }
   ],
   "source": [
    "# Initialiser le modèle Random Forest\n",
    "rf_model = RandomForestClassifier(n_estimators=100, random_state=42)\n",
    "\n",
    "# Entraîner le modèle sur les données d'entraînement\n",
    "rf_model.fit(X_train_tfidf, train_labels)\n"
   ]
  },
  {
   "cell_type": "markdown",
   "metadata": {},
   "source": [
    "### 10.1 - Évaluation du modèle Random Forest"
   ]
  },
  {
   "cell_type": "markdown",
   "metadata": {},
   "source": [
    "Après avoir entraîné le modèle Random Forest, nous l'évaluons sur l'ensemble de test de la même manière que le modèle SVM précédent.\n",
    "Nous utilisons les données de test vectorisées (X_test_tfidf) pour prédire les labels de sentiment à l'aide du modèle Random Forest.\n",
    "La précision du modèle est calculée en comparant les prédictions avec les vraies étiquettes (test_labels).\n",
    "Le rapport de classification fournit des mesures détaillées telles que la précision, le rappel et le score F1 pour chaque classe et une moyenne pondérée."
   ]
  },
  {
   "cell_type": "code",
   "execution_count": 19,
   "metadata": {},
   "outputs": [
    {
     "name": "stdout",
     "output_type": "stream",
     "text": [
      "Précision du modèle Random Forest : 84.84%\n",
      "\n",
      "Rapport de classification Random Forest :\n",
      "               precision    recall  f1-score   support\n",
      "\n",
      "    negative       0.84      0.86      0.85      4961\n",
      "    positive       0.86      0.84      0.85      5039\n",
      "\n",
      "    accuracy                           0.85     10000\n",
      "   macro avg       0.85      0.85      0.85     10000\n",
      "weighted avg       0.85      0.85      0.85     10000\n",
      "\n"
     ]
    }
   ],
   "source": [
    "# Prédire les labels pour l'ensemble de test\n",
    "rf_predictions = rf_model.predict(X_test_tfidf)\n",
    "\n",
    "# Calculer la précision du modèle\n",
    "rf_accuracy = accuracy_score(test_labels, rf_predictions)\n",
    "print(f\"Précision du modèle Random Forest : {rf_accuracy:.2%}\")\n",
    "\n",
    "# Afficher le rapport de classification\n",
    "print(\"\\nRapport de classification Random Forest :\\n\", classification_report(test_labels, rf_predictions))\n"
   ]
  },
  {
   "cell_type": "markdown",
   "metadata": {},
   "source": [
    "### 10.1 - TEST - Application du modèle Random Forest sur de nouvelles données"
   ]
  },
  {
   "cell_type": "markdown",
   "metadata": {},
   "source": [
    "Nous testons maintenant le modèle Random Forest sur de nouvelles critiques qui n'ont pas été utilisées pendant l'entraînement, tout comme nous l'avons fait avec le modèle SVM précédemment.\n",
    "Les nouvelles critiques sont prétraitées de la même manière que précédemment, puis vectorisées à l'aide du même vectoriseur TF-IDF.\n",
    "Ensuite, le modèle Random Forest prédit le sentiment de chaque nouvelle critique.\n",
    "\n",
    "--\n",
    "\n",
    "Le modèle Random Forest a correctement prédit le sentiment dans la plupart des critiques, mais a commis une erreur en interprétant une critique négative comme étant positive. Cette imprécision peut être attribuée à la complexité du langage utilisé, mettant en évidence la difficulté de capturer toutes les nuances du sentiment dans des critiques cinématographiques."
   ]
  },
  {
   "cell_type": "code",
   "execution_count": 20,
   "metadata": {},
   "outputs": [
    {
     "name": "stdout",
     "output_type": "stream",
     "text": [
      "Review: film suffers predictable unoriginal storyline leaving audience disappointing sense déjà vu\n",
      "Predicted Sentiment: negative\n",
      "\n",
      "Review: actor performance leave much desired lacking emotional depth credibility undermining immersion narrative\n",
      "Predicted Sentiment: positive\n",
      "\n",
      "Review: despite polished special effect direction suffers lack artistic cohesion giving impression visual element added disjointedly\n",
      "Predicted Sentiment: negative\n",
      "\n",
      "Review: film artistic direction visually striking featuring stunning set design capture viewer attention\n",
      "Predicted Sentiment: positive\n",
      "\n",
      "Review: scene elevated outstanding actor performance delivering poignant memorable moment despite shortcoming storyline\n",
      "Predicted Sentiment: positive\n",
      "\n",
      "Review: technical prowess special effect contributes making certain sequence visually breathtaking offering moment grand spectacle despite narrative issue\n",
      "Predicted Sentiment: positive\n",
      "\n"
     ]
    }
   ],
   "source": [
    "# Nouvelles critiques\n",
    "new_reviews_rf = [\"The film suffers from a predictable and unoriginal storyline, leaving audiences with a disappointing sense of déjà vu.\",\n",
    "                  \"The actors' performances leave much to be desired, lacking emotional depth and credibility, undermining immersion in the narrative.\",\n",
    "                  \"Despite polished special effects, the direction suffers from a lack of artistic cohesion, giving the impression that each visual element is added disjointedly.\",\n",
    "                  \"The film's artistic direction is visually striking, featuring stunning set designs that capture the viewer's attention.\",\n",
    "                  \"Some scenes are elevated by outstanding actor performances, delivering poignant and memorable moments despite the shortcomings of the storyline.\",\n",
    "                  \"The technical prowess of the special effects contributes to making certain sequences visually breathtaking, offering moments of grand spectacle despite narrative issues.\"]\n",
    "\n",
    "# Prétraitement des nouvelles critiques\n",
    "new_reviews_rf = [remove_html_tags(review) for review in new_reviews_rf]\n",
    "new_reviews_rf = [review.lower() for review in new_reviews_rf]\n",
    "new_reviews_rf = [remove_punctuation(review) for review in new_reviews_rf]\n",
    "new_reviews_rf = [remove_stopwords(review) for review in new_reviews_rf]\n",
    "new_reviews_rf = [tokenize_text(review) for review in new_reviews_rf]\n",
    "new_reviews_rf = [lemmatize_text(tokens) for tokens in new_reviews_rf]\n",
    "\n",
    "# Vectorisation des nouvelles critiques\n",
    "new_reviews_tfidf_rf = tfidf_vectorizer.transform([\" \".join(tokens) for tokens in new_reviews_rf])\n",
    "\n",
    "# Prédiction du sentiment des nouvelles critiques avec Random Forest\n",
    "new_predictions_rf = rf_model.predict(new_reviews_tfidf_rf)\n",
    "\n",
    "# Afficher les prédictions\n",
    "for review, prediction in zip(new_reviews_rf, new_predictions_rf):\n",
    "    print(f\"Review: {' '.join(review)}\\nPredicted Sentiment: {prediction}\\n\")\n"
   ]
  },
  {
   "cell_type": "markdown",
   "metadata": {},
   "source": [
    "====================================="
   ]
  },
  {
   "cell_type": "markdown",
   "metadata": {},
   "source": [
    "### 10.2 - Implémentation du modèle Naive Bayes"
   ]
  },
  {
   "cell_type": "markdown",
   "metadata": {},
   "source": [
    "Nous avons introduit le modèle Naive Bayes, spécifiquement le modèle Multinomial Naive Bayes, pour évaluer ses performances dans la classification des sentiments à partir des critiques de films.\n",
    "Le modèle a été initialisé avec la classe MultinomialNB de scikit-learn et entraîné sur les données d'entraînement.\n",
    "Les prédictions ont été effectuées sur l'ensemble de test, et la précision du modèle ainsi que le rapport de classification ont été affichés."
   ]
  },
  {
   "cell_type": "code",
   "execution_count": 21,
   "metadata": {},
   "outputs": [
    {
     "name": "stdout",
     "output_type": "stream",
     "text": [
      "Précision du modèle Naive Bayes : 85.13%\n",
      "\n",
      "Rapport de classification Naive Bayes :\n",
      "               precision    recall  f1-score   support\n",
      "\n",
      "    negative       0.85      0.84      0.85      4961\n",
      "    positive       0.85      0.86      0.85      5039\n",
      "\n",
      "    accuracy                           0.85     10000\n",
      "   macro avg       0.85      0.85      0.85     10000\n",
      "weighted avg       0.85      0.85      0.85     10000\n",
      "\n"
     ]
    }
   ],
   "source": [
    "# Initialiser le modèle Naive Bayes\n",
    "nb_model = MultinomialNB()\n",
    "\n",
    "# Entraîner le modèle sur les données d'entraînement\n",
    "nb_model.fit(X_train_tfidf, train_labels)\n",
    "\n",
    "# Prédire les labels pour l'ensemble de test\n",
    "nb_predictions = nb_model.predict(X_test_tfidf)\n",
    "\n",
    "# Calculer la précision du modèle\n",
    "nb_accuracy = accuracy_score(test_labels, nb_predictions)\n",
    "print(f\"Précision du modèle Naive Bayes : {nb_accuracy:.2%}\")\n",
    "\n",
    "# Afficher le rapport de classification\n",
    "print(\"\\nRapport de classification Naive Bayes :\\n\", classification_report(test_labels, nb_predictions))\n"
   ]
  },
  {
   "cell_type": "markdown",
   "metadata": {},
   "source": [
    "### 10.2 - TEST - Application du modèle Naive Bayes sur de nouvelles données"
   ]
  },
  {
   "cell_type": "markdown",
   "metadata": {},
   "source": [
    "Nous avons utilisé le modèle Naive Bayes entraîné pour prédire les sentiments de nouvelles critiques.\n",
    "Les nouvelles critiques ont été prétraitées de la même manière que les données d'entraînement et de test.\n",
    "La vectorisation TF-IDF a été appliquée sur ces nouvelles critiques.\n",
    "\n",
    "--\n",
    "\n",
    "Les prédictions de sentiment pour chaque nouvelle critique ont été affichées. Le modèle Naive Bayes semble avoir correctement prédit le sentiment négatif pour les deux premières critiques et le sentiment positif pour les trois dernières critiques. La troisième critique a été prédite de manière incorrecte, soulignant la difficulté de certains modèles à interpréter des nuances subtiles du langage."
   ]
  },
  {
   "cell_type": "code",
   "execution_count": 22,
   "metadata": {},
   "outputs": [
    {
     "name": "stdout",
     "output_type": "stream",
     "text": [
      "Review: film suffers predictable unoriginal storyline leaving audience disappointing sense déjà vu\n",
      "Predicted Sentiment: negative\n",
      "\n",
      "Review: actor performance leave much desired lacking emotional depth credibility undermining immersion narrative\n",
      "Predicted Sentiment: negative\n",
      "\n",
      "Review: despite polished special effect direction suffers lack artistic cohesion giving impression visual element added disjointedly\n",
      "Predicted Sentiment: positive\n",
      "\n",
      "Review: film artistic direction visually striking featuring stunning set design capture viewer attention\n",
      "Predicted Sentiment: positive\n",
      "\n",
      "Review: scene elevated outstanding actor performance delivering poignant memorable moment despite shortcoming storyline\n",
      "Predicted Sentiment: positive\n",
      "\n",
      "Review: technical prowess special effect contributes making certain sequence visually breathtaking offering moment grand spectacle despite narrative issue\n",
      "Predicted Sentiment: positive\n",
      "\n"
     ]
    }
   ],
   "source": [
    "# Nouvelles critiques\n",
    "new_reviews_nb = [\"The film suffers from a predictable and unoriginal storyline, leaving audiences with a disappointing sense of déjà vu.\",\n",
    "                  \"The actors' performances leave much to be desired, lacking emotional depth and credibility, undermining immersion in the narrative.\",\n",
    "                  \"Despite polished special effects, the direction suffers from a lack of artistic cohesion, giving the impression that each visual element is added disjointedly.\",\n",
    "                  \"The film's artistic direction is visually striking, featuring stunning set designs that capture the viewer's attention.\",\n",
    "                  \"Some scenes are elevated by outstanding actor performances, delivering poignant and memorable moments despite the shortcomings of the storyline.\",\n",
    "                  \"The technical prowess of the special effects contributes to making certain sequences visually breathtaking, offering moments of grand spectacle despite narrative issues.\"]\n",
    "\n",
    "# Prétraitement des nouvelles critiques\n",
    "new_reviews_nb = [remove_html_tags(review) for review in new_reviews_nb]\n",
    "new_reviews_nb = [review.lower() for review in new_reviews_nb]\n",
    "new_reviews_nb = [remove_punctuation(review) for review in new_reviews_nb]\n",
    "new_reviews_nb = [remove_stopwords(review) for review in new_reviews_nb]\n",
    "new_reviews_nb = [tokenize_text(review) for review in new_reviews_nb]\n",
    "new_reviews_nb = [lemmatize_text(tokens) for tokens in new_reviews_nb]\n",
    "\n",
    "# Vectorisation des nouvelles critiques\n",
    "new_reviews_tfidf_nb = tfidf_vectorizer.transform([\" \".join(tokens) for tokens in new_reviews_nb])\n",
    "\n",
    "# Prédiction du sentiment des nouvelles critiques avec Naive Bayes\n",
    "new_predictions_nb = nb_model.predict(new_reviews_tfidf_nb)\n",
    "\n",
    "# Afficher les prédictions\n",
    "for review, prediction in zip(new_reviews_nb, new_predictions_nb):\n",
    "    print(f\"Review: {' '.join(review)}\\nPredicted Sentiment: {prediction}\\n\")\n"
   ]
  },
  {
   "cell_type": "markdown",
   "metadata": {},
   "source": [
    "====================================="
   ]
  },
  {
   "cell_type": "markdown",
   "metadata": {},
   "source": [
    "## FIN - Comparaison des trois algorithmes"
   ]
  },
  {
   "cell_type": "markdown",
   "metadata": {},
   "source": [
    "### Matrices de confusion"
   ]
  },
  {
   "cell_type": "code",
   "execution_count": 23,
   "metadata": {},
   "outputs": [
    {
     "data": {
      "image/png": "[encoded data removed]",
      "text/plain": [
       "<Figure size 800x600 with 2 Axes>"
      ]
     },
     "metadata": {},
     "output_type": "display_data"
    },
    {
     "data": {
      "image/png": "[encoded data removed]",
      "text/plain": [
       "<Figure size 800x600 with 2 Axes>"
      ]
     },
     "metadata": {},
     "output_type": "display_data"
    },
    {
     "data": {
      "image/png": "[encoded data removed]",
      "text/plain": [
       "<Figure size 800x600 with 2 Axes>"
      ]
     },
     "metadata": {},
     "output_type": "display_data"
    }
   ],
   "source": [
    "# SVM\n",
    "svm_predictions = svm_model.predict(X_test_tfidf)\n",
    "svm_confusion = confusion_matrix(test_labels, svm_predictions)\n",
    "\n",
    "# Random Forest\n",
    "rf_predictions = rf_model.predict(X_test_tfidf)\n",
    "rf_confusion = confusion_matrix(test_labels, rf_predictions)\n",
    "\n",
    "# Naive Bayes\n",
    "nb_predictions = nb_model.predict(X_test_tfidf)\n",
    "nb_confusion = confusion_matrix(test_labels, nb_predictions)\n",
    "\n",
    "# Fonction pour afficher la matrice de confusion\n",
    "def plot_confusion_matrix(conf_matrix, model_name):\n",
    "    plt.figure(figsize=(8, 6))\n",
    "    sns.heatmap(conf_matrix, annot=True, fmt=\"d\", cmap=\"Blues\", xticklabels=[\"Negative\", \"Positive\"], yticklabels=[\"Negative\", \"Positive\"])\n",
    "    plt.title(f\"Confusion Matrix - {model_name}\")\n",
    "    plt.xlabel(\"Predicted\")\n",
    "    plt.ylabel(\"True\")\n",
    "    plt.show()\n",
    "\n",
    "# Affichage des matrices de confusion\n",
    "plot_confusion_matrix(svm_confusion, \"SVM\")\n",
    "plot_confusion_matrix(rf_confusion, \"Random Forest\")\n",
    "plot_confusion_matrix(nb_confusion, \"Naive Bayes\")\n"
   ]
  },
  {
   "cell_type": "markdown",
   "metadata": {},
   "source": [
    "### Précisions des modèles"
   ]
  },
  {
   "cell_type": "markdown",
   "metadata": {},
   "source": [
    "Trois modèles d'apprentissage pour l'analyse des sentiments ont été implémentés et évalués : SVM, Random Forest et Naive Bayes. Les modèles ont été entraînés sur les données d'entraînement, évalués sur les données de test et testés sur de nouvelles critiques. "
   ]
  },
  {
   "cell_type": "code",
   "execution_count": 24,
   "metadata": {},
   "outputs": [
    {
     "name": "stdout",
     "output_type": "stream",
     "text": [
      "╒═══════════════╤═════════════╕\n",
      "│ Modèle        │   Précision │\n",
      "╞═══════════════╪═════════════╡\n",
      "│ SVM           │      0.8862 │\n",
      "├───────────────┼─────────────┤\n",
      "│ Random Forest │      0.8484 │\n",
      "├───────────────┼─────────────┤\n",
      "│ Naive Bayes   │      0.8513 │\n",
      "╘═══════════════╧═════════════╛\n"
     ]
    }
   ],
   "source": [
    "# Affichage du tableau - Précisions des modèles\n",
    "precisions = [accuracy, rf_accuracy, nb_accuracy]\n",
    "table_data = [['SVM', accuracy], ['Random Forest', rf_accuracy], ['Naive Bayes', nb_accuracy]]\n",
    "table = tabulate(table_data, headers=['Modèle', 'Précision'], tablefmt='fancy_grid')\n",
    "print(table)"
   ]
  },
  {
   "cell_type": "markdown",
   "metadata": {},
   "source": [
    "Le modèle SVM a obtenu la meilleure précision parmi les trois modèles, avec une précision de 88.62%.\n",
    "Le modèle Random Forest a obtenu une précision de 84.84%, tandis que le modèle Naive Bayes a obtenu une précision de 85.13%."
   ]
  },
  {
   "cell_type": "markdown",
   "metadata": {},
   "source": [
    "================FIN=====Projet================"
   ]
  }
 ],
 "metadata": {
  "kernelspec": {
   "display_name": "Python 3",
   "language": "python",
   "name": "python3"
  },
  "language_info": {
   "codemirror_mode": {
    "name": "ipython",
    "version": 3
   },
   "file_extension": ".py",
   "mimetype": "text/x-python",
   "name": "python",
   "nbconvert_exporter": "python",
   "pygments_lexer": "ipython3",
   "version": "3.10.12"
  }
 },
 "nbformat": 4,
 "nbformat_minor": 2
}
